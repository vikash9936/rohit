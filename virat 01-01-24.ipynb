{
 "cells": [
  {
   "cell_type": "code",
   "execution_count": 1,
   "id": "16b6b5ee",
   "metadata": {},
   "outputs": [
    {
     "name": "stdout",
     "output_type": "stream",
     "text": [
      "Requirement already satisfied: google in c:\\users\\vikash\\anaconda3\\lib\\site-packages (3.0.0)\n",
      "Requirement already satisfied: beautifulsoup4 in c:\\users\\vikash\\anaconda3\\lib\\site-packages (from google) (4.12.2)\n",
      "Requirement already satisfied: soupsieve>1.2 in c:\\users\\vikash\\anaconda3\\lib\\site-packages (from beautifulsoup4->google) (2.4)\n",
      "Note: you may need to restart the kernel to use updated packages.\n"
     ]
    }
   ],
   "source": [
    "pip install google"
   ]
  },
  {
   "cell_type": "code",
   "execution_count": null,
   "id": "52add54a",
   "metadata": {},
   "outputs": [],
   "source": [
    "from googlesearch import search\n",
    "search_query = import(\"Enter the name of the website: \")\n",
    "\n",
    "for result in search(search_query, tld='co.in', leng='en', num=5, stop=5, pause=2.0):\n",
    "    print(result)"
   ]
  }
 ],
 "metadata": {
  "kernelspec": {
   "display_name": "Python 3 (ipykernel)",
   "language": "python",
   "name": "python3"
  },
  "language_info": {
   "codemirror_mode": {
    "name": "ipython",
    "version": 3
   },
   "file_extension": ".py",
   "mimetype": "text/x-python",
   "name": "python",
   "nbconvert_exporter": "python",
   "pygments_lexer": "ipython3",
   "version": "3.11.4"
  }
 },
 "nbformat": 4,
 "nbformat_minor": 5
}
