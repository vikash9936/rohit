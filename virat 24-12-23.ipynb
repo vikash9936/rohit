{
 "cells": [
  {
   "cell_type": "code",
   "execution_count": 2,
   "id": "c6d597a0",
   "metadata": {},
   "outputs": [
    {
     "name": "stdout",
     "output_type": "stream",
     "text": [
      "Requirement already satisfied: pywhatkit in c:\\users\\vikash\\anaconda3\\lib\\site-packages (5.4)\n",
      "Requirement already satisfied: Pillow in c:\\users\\vikash\\anaconda3\\lib\\site-packages (from pywhatkit) (9.4.0)\n",
      "Requirement already satisfied: pyautogui in c:\\users\\vikash\\anaconda3\\lib\\site-packages (from pywhatkit) (0.9.54)\n",
      "Requirement already satisfied: requests in c:\\users\\vikash\\anaconda3\\lib\\site-packages (from pywhatkit) (2.31.0)\n",
      "Requirement already satisfied: wikipedia in c:\\users\\vikash\\anaconda3\\lib\\site-packages (from pywhatkit) (1.4.0)\n",
      "Requirement already satisfied: Flask in c:\\users\\vikash\\anaconda3\\lib\\site-packages (from pywhatkit) (2.2.2)\n",
      "Requirement already satisfied: Werkzeug>=2.2.2 in c:\\users\\vikash\\anaconda3\\lib\\site-packages (from Flask->pywhatkit) (2.2.3)\n",
      "Requirement already satisfied: Jinja2>=3.0 in c:\\users\\vikash\\anaconda3\\lib\\site-packages (from Flask->pywhatkit) (3.1.2)\n",
      "Requirement already satisfied: itsdangerous>=2.0 in c:\\users\\vikash\\anaconda3\\lib\\site-packages (from Flask->pywhatkit) (2.0.1)\n",
      "Requirement already satisfied: click>=8.0 in c:\\users\\vikash\\anaconda3\\lib\\site-packages (from Flask->pywhatkit) (8.0.4)\n",
      "Requirement already satisfied: pymsgbox in c:\\users\\vikash\\anaconda3\\lib\\site-packages (from pyautogui->pywhatkit) (1.0.9)\n",
      "Requirement already satisfied: pytweening>=1.0.4 in c:\\users\\vikash\\anaconda3\\lib\\site-packages (from pyautogui->pywhatkit) (1.0.7)\n",
      "Requirement already satisfied: pyscreeze>=0.1.21 in c:\\users\\vikash\\anaconda3\\lib\\site-packages (from pyautogui->pywhatkit) (0.1.30)\n",
      "Requirement already satisfied: pygetwindow>=0.0.5 in c:\\users\\vikash\\anaconda3\\lib\\site-packages (from pyautogui->pywhatkit) (0.0.9)\n",
      "Requirement already satisfied: mouseinfo in c:\\users\\vikash\\anaconda3\\lib\\site-packages (from pyautogui->pywhatkit) (0.1.3)\n",
      "Requirement already satisfied: charset-normalizer<4,>=2 in c:\\users\\vikash\\anaconda3\\lib\\site-packages (from requests->pywhatkit) (2.0.4)\n",
      "Requirement already satisfied: idna<4,>=2.5 in c:\\users\\vikash\\anaconda3\\lib\\site-packages (from requests->pywhatkit) (3.4)\n",
      "Requirement already satisfied: urllib3<3,>=1.21.1 in c:\\users\\vikash\\anaconda3\\lib\\site-packages (from requests->pywhatkit) (1.26.16)\n",
      "Requirement already satisfied: certifi>=2017.4.17 in c:\\users\\vikash\\anaconda3\\lib\\site-packages (from requests->pywhatkit) (2023.7.22)\n",
      "Requirement already satisfied: beautifulsoup4 in c:\\users\\vikash\\anaconda3\\lib\\site-packages (from wikipedia->pywhatkit) (4.12.2)\n",
      "Requirement already satisfied: colorama in c:\\users\\vikash\\anaconda3\\lib\\site-packages (from click>=8.0->Flask->pywhatkit) (0.4.6)\n",
      "Requirement already satisfied: MarkupSafe>=2.0 in c:\\users\\vikash\\anaconda3\\lib\\site-packages (from Jinja2>=3.0->Flask->pywhatkit) (2.1.1)\n",
      "Requirement already satisfied: pyrect in c:\\users\\vikash\\anaconda3\\lib\\site-packages (from pygetwindow>=0.0.5->pyautogui->pywhatkit) (0.2.0)\n",
      "Requirement already satisfied: soupsieve>1.2 in c:\\users\\vikash\\anaconda3\\lib\\site-packages (from beautifulsoup4->wikipedia->pywhatkit) (2.4)\n",
      "Requirement already satisfied: pyperclip in c:\\users\\vikash\\anaconda3\\lib\\site-packages (from mouseinfo->pyautogui->pywhatkit) (1.8.2)\n",
      "Note: you may need to restart the kernel to use updated packages.\n"
     ]
    }
   ],
   "source": [
    "pip install pywhatkit"
   ]
  },
  {
   "cell_type": "code",
   "execution_count": 3,
   "id": "d325b221",
   "metadata": {},
   "outputs": [],
   "source": [
    "import pywhatkit"
   ]
  },
  {
   "cell_type": "code",
   "execution_count": 4,
   "id": "40782a02",
   "metadata": {},
   "outputs": [
    {
     "name": "stdout",
     "output_type": "stream",
     "text": [
      "In 74 Seconds WhatsApp will open and after 15 Seconds Message will be Delivered!\n"
     ]
    }
   ],
   "source": [
    "pywhatkit.sendwhatmsg(\"+918840094081\",\"hello\",3,10)"
   ]
  },
  {
   "cell_type": "code",
   "execution_count": null,
   "id": "7d5608e0",
   "metadata": {},
   "outputs": [],
   "source": []
  }
 ],
 "metadata": {
  "kernelspec": {
   "display_name": "Python 3 (ipykernel)",
   "language": "python",
   "name": "python3"
  },
  "language_info": {
   "codemirror_mode": {
    "name": "ipython",
    "version": 3
   },
   "file_extension": ".py",
   "mimetype": "text/x-python",
   "name": "python",
   "nbconvert_exporter": "python",
   "pygments_lexer": "ipython3",
   "version": "3.11.4"
  }
 },
 "nbformat": 4,
 "nbformat_minor": 5
}
